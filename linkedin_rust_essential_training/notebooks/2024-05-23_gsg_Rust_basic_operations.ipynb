{
 "cells": [
  {
   "cell_type": "code",
   "execution_count": 3,
   "id": "9b775ab0-a6fe-4101-85bb-fdffa37e3e94",
   "metadata": {},
   "outputs": [],
   "source": [
    "use std::fmt::Debug;\n",
    "pub struct List<T>(Vec<T>);\n",
    "impl<T: Debug> List<T> {\n",
    "    pub fn evcxr_display(&self) {\n",
    "        let mut html = String::new();\n",
    "        \n",
    "        html.push_str(\"<ol>\");\n",
    "        \n",
    "        for item in &self.0 {\n",
    "            html.push_str(&format!(\"<li>{:?}</li>\", item));\n",
    "        }\n",
    "        \n",
    "        html.push_str(\"</ol>\");\n",
    "        println!(\"EVCXR_BEGIN_CONTENT text/html\\n{}\\nEVCXR_END_CONTENT\", html);\n",
    "    }\n",
    "}"
   ]
  },
  {
   "cell_type": "markdown",
   "id": "23db38c0-eb77-4393-a817-9d623af36096",
   "metadata": {},
   "source": [
    "## Formatting print Statements\n",
    "In Rust, you can use a formatting synthax similar to the one implemented in Python.<br>\n",
    "[Module std::fmt](https://doc.rust-lang.org/std/fmt/index.html)"
   ]
  },
  {
   "cell_type": "code",
   "execution_count": 4,
   "id": "6e7a3bca-7c17-4630-aa88-ff8a08e35afc",
   "metadata": {},
   "outputs": [
    {
     "name": "stdout",
     "output_type": "stream",
     "text": [
      "x is 10\n"
     ]
    }
   ],
   "source": [
    "let x: u8 = 10;\n",
    "println!(\"x is {}\", x);"
   ]
  },
  {
   "cell_type": "code",
   "execution_count": 3,
   "id": "d32f22ab-d177-4346-b43a-e2e3ae62378d",
   "metadata": {},
   "outputs": [
    {
     "name": "stdout",
     "output_type": "stream",
     "text": [
      "x is 10 and y is 20\n"
     ]
    }
   ],
   "source": [
    "let x: u8 = 10;\n",
    "let y = x + 10;\n",
    "println!(\"x is {0} and y is {1}\", x, y);"
   ]
  },
  {
   "cell_type": "markdown",
   "id": "2f2ebb1b-c943-4fbe-a49e-8c7fb428aee6",
   "metadata": {},
   "source": [
    "## Bitwise operations\n",
    "Rust allows us to manipulate variables encoded as bits and make transformation between other data types."
   ]
  },
  {
   "cell_type": "code",
   "execution_count": 5,
   "id": "bf3b35f6-9c77-4b71-be4a-8a59402cb685",
   "metadata": {},
   "outputs": [
    {
     "name": "stdout",
     "output_type": "stream",
     "text": [
      "value is 245\n",
      "value is 11110101\n"
     ]
    }
   ],
   "source": [
    "let value = 0b1111_0101u8;\n",
    "println!(\"value is {}\", value);\n",
    "println!(\"value is {:08b}\", value);"
   ]
  },
  {
   "cell_type": "markdown",
   "id": "58544536-a35e-48b1-b33a-fb862c906ec4",
   "metadata": {},
   "source": [
    "To invert the bitwise values we can leverage the `!`."
   ]
  },
  {
   "cell_type": "code",
   "execution_count": 9,
   "id": "c7b62b85-8c2f-4b57-a97d-f9ea4e3d7c3e",
   "metadata": {},
   "outputs": [
    {
     "name": "stdout",
     "output_type": "stream",
     "text": [
      "value is 10\n",
      "value is 00001010\n"
     ]
    }
   ],
   "source": [
    "let value_invert = !value;\n",
    "println!(\"value is {}\", value_invert);\n",
    "println!(\"value is {:08b}\", value_invert);"
   ]
  },
  {
   "cell_type": "markdown",
   "id": "5090ae4c-74a1-4fb6-af4c-aa3bccd466d8",
   "metadata": {},
   "source": [
    "We can also apply operations like AND, OR or XOR with the characters `&`, `|` and `^` respectively.\n",
    "We can also shift bits by using `<<` or `>>`."
   ]
  },
  {
   "cell_type": "markdown",
   "id": "3e804a78-8cdb-4bcc-b428-b65e5beec3d7",
   "metadata": {},
   "source": [
    "## Boolean Data Types\n",
    "In Rust, boolean is encoded as `true` and `false` (`1` and `0`)."
   ]
  },
  {
   "cell_type": "code",
   "execution_count": 14,
   "id": "d131c474-4054-4fff-9f8d-bd75349df019",
   "metadata": {},
   "outputs": [
    {
     "name": "stdout",
     "output_type": "stream",
     "text": [
      "a is true and b is false\n",
      "NOT a is false\n",
      "a and b is false\n",
      "a OR b is true\n",
      "a XOR b is true\n"
     ]
    }
   ],
   "source": [
    "let a = true;\n",
    "let b = false;\n",
    "println!(\"a is {} and b is {}\", a, b);\n",
    "println!(\"NOT a is {}\", !a);\n",
    "println!(\"a and b is {}\", a & b);\n",
    "println!(\"a OR b is {}\", a | b);\n",
    "println!(\"a XOR b is {}\", a ^ b);"
   ]
  },
  {
   "cell_type": "markdown",
   "id": "0f4cc6ea-e52b-4468-ba78-b4f3ac608d89",
   "metadata": {
    "scrolled": true
   },
   "source": [
    "To avoiding evaluating expressions with `false &` or `true |`, we use the Short-circuit operators, `&&` and `||`."
   ]
  },
  {
   "cell_type": "markdown",
   "id": "484d3640-37ff-4aee-ba8f-421ccea56174",
   "metadata": {},
   "source": [
    "## Comparison operators\n",
    "Rust offers traditional comparison operators like `==`, `!=`, `>`, `<`, `>=` and `<=`."
   ]
  },
  {
   "cell_type": "markdown",
   "id": "7a2bdfb4-8f55-4773-abb3-d3af1039c640",
   "metadata": {},
   "source": [
    "## Char data types\n",
    "Rust stores characters as 4 bytes as unicode scalar values, opening a wide possibilities to encode different symbols other than letters and numbers."
   ]
  },
  {
   "cell_type": "code",
   "execution_count": 17,
   "id": "6dcc0a7f-ecf1-45fc-8c2c-216211d81e78",
   "metadata": {},
   "outputs": [
    {
     "name": "stdout",
     "output_type": "stream",
     "text": [
      "Finger ☝\n"
     ]
    }
   ],
   "source": [
    "let finger = '\\u{261D}';\n",
    "println!(\"Finger {}\", finger);"
   ]
  },
  {
   "cell_type": "code",
   "execution_count": null,
   "id": "7cb452e5-282a-423c-bf49-161d8bc866af",
   "metadata": {},
   "outputs": [],
   "source": []
  }
 ],
 "metadata": {
  "kernelspec": {
   "display_name": "Rust",
   "language": "rust",
   "name": "rust"
  },
  "language_info": {
   "codemirror_mode": "rust",
   "file_extension": ".rs",
   "mimetype": "text/rust",
   "name": "Rust",
   "pygment_lexer": "rust",
   "version": ""
  }
 },
 "nbformat": 4,
 "nbformat_minor": 5
}
