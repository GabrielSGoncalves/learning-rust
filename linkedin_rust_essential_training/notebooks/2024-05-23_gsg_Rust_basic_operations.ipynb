{
 "cells": [
  {
   "cell_type": "markdown",
   "id": "bf107e4f-b3b3-4ccd-ad7f-43d69539accc",
   "metadata": {},
   "source": [
    "# Rust basic concepts"
   ]
  },
  {
   "cell_type": "code",
   "execution_count": 3,
   "id": "9b775ab0-a6fe-4101-85bb-fdffa37e3e94",
   "metadata": {},
   "outputs": [],
   "source": [
    "use std::fmt::Debug;\n",
    "pub struct List<T>(Vec<T>);\n",
    "impl<T: Debug> List<T> {\n",
    "    pub fn evcxr_display(&self) {\n",
    "        let mut html = String::new();\n",
    "        \n",
    "        html.push_str(\"<ol>\");\n",
    "        \n",
    "        for item in &self.0 {\n",
    "            html.push_str(&format!(\"<li>{:?}</li>\", item));\n",
    "        }\n",
    "        \n",
    "        html.push_str(\"</ol>\");\n",
    "        println!(\"EVCXR_BEGIN_CONTENT text/html\\n{}\\nEVCXR_END_CONTENT\", html);\n",
    "    }\n",
    "}"
   ]
  },
  {
   "cell_type": "markdown",
   "id": "23db38c0-eb77-4393-a817-9d623af36096",
   "metadata": {},
   "source": [
    "## Formatting print Statements\n",
    "In Rust, you can use a formatting synthax similar to the one implemented in Python.<br>\n",
    "[Module std::fmt](https://doc.rust-lang.org/std/fmt/index.html)"
   ]
  },
  {
   "cell_type": "code",
   "execution_count": 4,
   "id": "6e7a3bca-7c17-4630-aa88-ff8a08e35afc",
   "metadata": {},
   "outputs": [
    {
     "name": "stdout",
     "output_type": "stream",
     "text": [
      "x is 10\n"
     ]
    }
   ],
   "source": [
    "let x: u8 = 10;\n",
    "println!(\"x is {}\", x);"
   ]
  },
  {
   "cell_type": "code",
   "execution_count": 3,
   "id": "d32f22ab-d177-4346-b43a-e2e3ae62378d",
   "metadata": {},
   "outputs": [
    {
     "name": "stdout",
     "output_type": "stream",
     "text": [
      "x is 10 and y is 20\n"
     ]
    }
   ],
   "source": [
    "let x: u8 = 10;\n",
    "let y = x + 10;\n",
    "println!(\"x is {0} and y is {1}\", x, y);"
   ]
  },
  {
   "cell_type": "markdown",
   "id": "2f2ebb1b-c943-4fbe-a49e-8c7fb428aee6",
   "metadata": {},
   "source": [
    "## Bitwise operations\n",
    "Rust allows us to manipulate variables encoded as bits and make transformation between other data types."
   ]
  },
  {
   "cell_type": "code",
   "execution_count": 5,
   "id": "bf3b35f6-9c77-4b71-be4a-8a59402cb685",
   "metadata": {},
   "outputs": [
    {
     "name": "stdout",
     "output_type": "stream",
     "text": [
      "value is 245\n",
      "value is 11110101\n"
     ]
    }
   ],
   "source": [
    "let value = 0b1111_0101u8;\n",
    "println!(\"value is {}\", value);\n",
    "println!(\"value is {:08b}\", value);"
   ]
  },
  {
   "cell_type": "markdown",
   "id": "58544536-a35e-48b1-b33a-fb862c906ec4",
   "metadata": {},
   "source": [
    "To invert the bitwise values we can leverage the `!`."
   ]
  },
  {
   "cell_type": "code",
   "execution_count": 9,
   "id": "c7b62b85-8c2f-4b57-a97d-f9ea4e3d7c3e",
   "metadata": {},
   "outputs": [
    {
     "name": "stdout",
     "output_type": "stream",
     "text": [
      "value is 10\n",
      "value is 00001010\n"
     ]
    }
   ],
   "source": [
    "let value_invert = !value;\n",
    "println!(\"value is {}\", value_invert);\n",
    "println!(\"value is {:08b}\", value_invert);"
   ]
  },
  {
   "cell_type": "markdown",
   "id": "5090ae4c-74a1-4fb6-af4c-aa3bccd466d8",
   "metadata": {},
   "source": [
    "We can also apply operations like AND, OR or XOR with the characters `&`, `|` and `^` respectively.\n",
    "We can also shift bits by using `<<` or `>>`."
   ]
  },
  {
   "cell_type": "markdown",
   "id": "3e804a78-8cdb-4bcc-b428-b65e5beec3d7",
   "metadata": {},
   "source": [
    "## Boolean Data Types\n",
    "In Rust, boolean is encoded as `true` and `false` (`1` and `0`)."
   ]
  },
  {
   "cell_type": "code",
   "execution_count": 14,
   "id": "d131c474-4054-4fff-9f8d-bd75349df019",
   "metadata": {},
   "outputs": [
    {
     "name": "stdout",
     "output_type": "stream",
     "text": [
      "a is true and b is false\n",
      "NOT a is false\n",
      "a and b is false\n",
      "a OR b is true\n",
      "a XOR b is true\n"
     ]
    }
   ],
   "source": [
    "let a = true;\n",
    "let b = false;\n",
    "println!(\"a is {} and b is {}\", a, b);\n",
    "println!(\"NOT a is {}\", !a);\n",
    "println!(\"a and b is {}\", a & b);\n",
    "println!(\"a OR b is {}\", a | b);\n",
    "println!(\"a XOR b is {}\", a ^ b);"
   ]
  },
  {
   "cell_type": "markdown",
   "id": "0f4cc6ea-e52b-4468-ba78-b4f3ac608d89",
   "metadata": {
    "scrolled": true
   },
   "source": [
    "To avoiding evaluating expressions with `false &` or `true |`, we use the Short-circuit operators, `&&` and `||`."
   ]
  },
  {
   "cell_type": "markdown",
   "id": "484d3640-37ff-4aee-ba8f-421ccea56174",
   "metadata": {},
   "source": [
    "## Comparison operators\n",
    "Rust offers traditional comparison operators like `==`, `!=`, `>`, `<`, `>=` and `<=`."
   ]
  },
  {
   "cell_type": "markdown",
   "id": "7a2bdfb4-8f55-4773-abb3-d3af1039c640",
   "metadata": {},
   "source": [
    "## Char data types\n",
    "Rust stores characters as 4 bytes as unicode scalar values, opening a wide possibilities to encode different symbols other than letters and numbers."
   ]
  },
  {
   "cell_type": "code",
   "execution_count": 17,
   "id": "6dcc0a7f-ecf1-45fc-8c2c-216211d81e78",
   "metadata": {},
   "outputs": [
    {
     "name": "stdout",
     "output_type": "stream",
     "text": [
      "Finger ☝\n"
     ]
    }
   ],
   "source": [
    "let finger = '\\u{261D}';\n",
    "println!(\"Finger {}\", finger);"
   ]
  },
  {
   "cell_type": "code",
   "execution_count": 20,
   "id": "7cb452e5-282a-423c-bf49-161d8bc866af",
   "metadata": {},
   "outputs": [
    {
     "name": "stdout",
     "output_type": "stream",
     "text": [
      "10\n"
     ]
    }
   ],
   "source": [
    "let x: u8 = 0b11110101;\n",
    "println!(\"{}\", !x);"
   ]
  },
  {
   "cell_type": "markdown",
   "id": "23e350f8-9143-40b1-b6e4-b22f428cb2f9",
   "metadata": {},
   "source": [
    "## Arrays\n",
    "Arrays is a compound data type that carries a constant number of values, using the `[]`.\n"
   ]
  },
  {
   "cell_type": "code",
   "execution_count": 5,
   "id": "24284234-37f5-4e37-8126-85423b1deac0",
   "metadata": {},
   "outputs": [
    {
     "name": "stdout",
     "output_type": "stream",
     "text": [
      "a\n"
     ]
    }
   ],
   "source": [
    "let mut letters = ['a', 'b', 'c'];\n",
    "println!(\"{}\", letters[0]);"
   ]
  },
  {
   "cell_type": "markdown",
   "id": "3a0a6139-62a8-4d47-8575-724a109f8ede",
   "metadata": {},
   "source": [
    "If you want to change the value in an array, make sure to make it mutable in creation."
   ]
  },
  {
   "cell_type": "code",
   "execution_count": 13,
   "id": "fa14c8b2-0df8-4aa3-9673-4898df7a78e7",
   "metadata": {},
   "outputs": [
    {
     "name": "stdout",
     "output_type": "stream",
     "text": [
      "First value from letters is A\n"
     ]
    }
   ],
   "source": [
    "letters[0] = 'A';\n",
    "println!(\"First value from letters is {}\", letters[0]);"
   ]
  },
  {
   "cell_type": "code",
   "execution_count": 11,
   "id": "f95e4750-8dc8-457b-82e7-c643d9ab6ec2",
   "metadata": {},
   "outputs": [
    {
     "name": "stdout",
     "output_type": "stream",
     "text": [
      "A\n"
     ]
    }
   ],
   "source": [
    "println!(\"{}\", letters[0]);"
   ]
  },
  {
   "cell_type": "markdown",
   "id": "930e704a-8b02-4398-b1a0-bbeef0029d34",
   "metadata": {},
   "source": [
    "To initialize arrays with repeated values you can use:"
   ]
  },
  {
   "cell_type": "code",
   "execution_count": 24,
   "id": "74b397f8-8bb6-46e4-9afc-b4e86d43ab5f",
   "metadata": {},
   "outputs": [
    {
     "name": "stdout",
     "output_type": "stream",
     "text": [
      "[0, 0, 0, 0, 0]\n"
     ]
    }
   ],
   "source": [
    "let array_len_5: [i32; 5];\n",
    "array_len_5 = [0; 5];\n",
    "println!(\"{:?}\", array_len_5);"
   ]
  },
  {
   "cell_type": "markdown",
   "id": "9c07ecf4-1942-4405-85b1-71a7f0a72241",
   "metadata": {},
   "source": [
    "## Multidimensional arrays\n",
    "You can use multidimensional arrays by assigning nested arrays, but the constraint is that all subarrays must have the same lenght."
   ]
  },
  {
   "cell_type": "code",
   "execution_count": 27,
   "id": "e3f3a9bc-0918-4690-a694-15d4727e036e",
   "metadata": {},
   "outputs": [],
   "source": [
    "let parking_lot = [[1,2,3],[4,5,6]];"
   ]
  },
  {
   "cell_type": "code",
   "execution_count": 28,
   "id": "20ad1f79-d37a-432e-9690-9c243375a3eb",
   "metadata": {},
   "outputs": [
    {
     "name": "stdout",
     "output_type": "stream",
     "text": [
      "1\n"
     ]
    }
   ],
   "source": [
    "println!(\"{}\", parking_lot[0][0]);"
   ]
  },
  {
   "cell_type": "markdown",
   "id": "ac731a24-0eb9-4e5e-b420-156e85328f3d",
   "metadata": {},
   "source": [
    "For 3-dimensional arrays:"
   ]
  },
  {
   "cell_type": "code",
   "execution_count": 30,
   "id": "48cc1ffc-366b-4491-9942-5801d613d094",
   "metadata": {},
   "outputs": [],
   "source": [
    "let garage = [[[0; 100]; 20]; 5];"
   ]
  },
  {
   "cell_type": "markdown",
   "id": "c64acc8f-36b7-4194-a32b-7bf546692638",
   "metadata": {},
   "source": [
    "## Tuples\n",
    "While arrays must contain values of the same data type, tuples enable you to mix data types on the same structure."
   ]
  },
  {
   "cell_type": "code",
   "execution_count": 3,
   "id": "db1ec4c8-f6d5-475b-97d6-ca35e6c80bb0",
   "metadata": {},
   "outputs": [
    {
     "name": "stdout",
     "output_type": "stream",
     "text": [
      "3.14\n"
     ]
    }
   ],
   "source": [
    "let mut stuff: (u8, f32, char) = (10, 3.14, 'x');\n",
    "let first_item = stuff.1;\n",
    "println!(\"{}\",first_item);"
   ]
  },
  {
   "cell_type": "markdown",
   "id": "8401070d-2768-4e10-afa0-594e3acb8fad",
   "metadata": {},
   "source": [
    "## Functions\n",
    "Funtions in Rust follow the following structure:"
   ]
  },
  {
   "cell_type": "code",
   "execution_count": 4,
   "id": "bdbea98e-adef-43d5-9fa4-7743fc01f84f",
   "metadata": {},
   "outputs": [],
   "source": [
    "fn print_string(string: &str) {\n",
    "    println!(\"{}\", string);\n",
    "}"
   ]
  },
  {
   "cell_type": "code",
   "execution_count": 7,
   "id": "58d15711-5dcb-49b1-aa00-f380d7dd525b",
   "metadata": {},
   "outputs": [
    {
     "name": "stdout",
     "output_type": "stream",
     "text": [
      "Hello\n"
     ]
    }
   ],
   "source": [
    "print_string(\"Hello\");"
   ]
  },
  {
   "cell_type": "markdown",
   "id": "fca918d3-bf74-455a-ae38-48267862e77b",
   "metadata": {},
   "source": [
    "In Rust, you must define the parameters types, as it's a typed language."
   ]
  },
  {
   "cell_type": "markdown",
   "id": "ceb0146e-0dfb-4826-ab08-a52accea53ab",
   "metadata": {},
   "source": [
    "To return values from a function you can simply add an expression (no semicolon on the end of the line) to the end of the code block. "
   ]
  },
  {
   "cell_type": "code",
   "execution_count": 10,
   "id": "7beb373f-3bb8-4147-bac3-4ac5fa10b77c",
   "metadata": {},
   "outputs": [],
   "source": [
    "fn square (x: i32) -> i32 {\n",
    "    x * x\n",
    "}"
   ]
  },
  {
   "cell_type": "code",
   "execution_count": 11,
   "id": "a6b15d6f-8a65-4941-9c0a-ab5a8224af53",
   "metadata": {},
   "outputs": [
    {
     "data": {
      "text/plain": [
       "4"
      ]
     },
     "execution_count": 11,
     "metadata": {},
     "output_type": "execute_result"
    }
   ],
   "source": [
    "square(2)"
   ]
  },
  {
   "cell_type": "markdown",
   "id": "3e19b88c-9b93-416c-9d71-7ff7c13517b8",
   "metadata": {},
   "source": [
    "We can use `return` to explicitly return a value if we want to have other lines of code after the function return statement."
   ]
  },
  {
   "cell_type": "code",
   "execution_count": 13,
   "id": "d40e0419-8e8e-42be-a9f9-4ea7545ce911",
   "metadata": {},
   "outputs": [],
   "source": [
    "fn square (x: i32) -> i32 {\n",
    "    return x * x;\n",
    "    println!(\"End of function\");\n",
    "}\n"
   ]
  },
  {
   "cell_type": "code",
   "execution_count": 14,
   "id": "0172a760-ca57-4174-aff2-6ad0f7e3e085",
   "metadata": {},
   "outputs": [
    {
     "data": {
      "text/plain": [
       "4"
      ]
     },
     "execution_count": 14,
     "metadata": {},
     "output_type": "execute_result"
    }
   ],
   "source": [
    "square(2)"
   ]
  },
  {
   "cell_type": "markdown",
   "id": "f6dcc723-1116-4d62-952d-caedc4317f4d",
   "metadata": {},
   "source": [
    "# Controlling the program flow with Rust\n",
    "In this session we are going to explore control flow synthax in Rust.\n"
   ]
  },
  {
   "cell_type": "markdown",
   "id": "2a45aa24-3001-44dc-8679-58a6034a6a82",
   "metadata": {},
   "source": [
    "## Conditional execution\n",
    "Rust uses `if`, `else if` and `else` for control the conditional flow. Make sure to use the curly braces to separate every conditional statement."
   ]
  },
  {
   "cell_type": "code",
   "execution_count": 6,
   "id": "df5d370a-43cf-4633-8f1e-b272ff5dc0b8",
   "metadata": {},
   "outputs": [],
   "source": [
    "fn conditional_flow(x: f32) {\n",
    "    if x > 0. {\n",
    "        println!(\"x is {}, greater than 0\", x);\n",
    "    } else if x < 0. {\n",
    "        println!(\"x is {}, smaller than 0\", x);\n",
    "    } else {\n",
    "        println!(\"x is 0\");\n",
    "    }\n",
    "}"
   ]
  },
  {
   "cell_type": "code",
   "execution_count": 9,
   "id": "855dfa23-dc0e-4d07-a367-126f17f9dede",
   "metadata": {},
   "outputs": [
    {
     "name": "stdout",
     "output_type": "stream",
     "text": [
      "x is 1, greater than 0\n"
     ]
    }
   ],
   "source": [
    "conditional_flow(1.);"
   ]
  },
  {
   "cell_type": "code",
   "execution_count": 10,
   "id": "a9ef8f84-1739-4f10-a447-cd53f8442f44",
   "metadata": {},
   "outputs": [
    {
     "name": "stdout",
     "output_type": "stream",
     "text": [
      "x is -1, smaller than 0\n"
     ]
    }
   ],
   "source": [
    "conditional_flow(-1.);"
   ]
  },
  {
   "cell_type": "code",
   "execution_count": 11,
   "id": "1152bf07-437b-4ad1-bf71-dc293bc6dfa7",
   "metadata": {},
   "outputs": [
    {
     "name": "stdout",
     "output_type": "stream",
     "text": [
      "x is 0\n"
     ]
    }
   ],
   "source": [
    "conditional_flow(0.);"
   ]
  },
  {
   "cell_type": "markdown",
   "id": "170e82ef-0a8e-4227-877f-bc9975253a93",
   "metadata": {},
   "source": [
    "## Conditional assignemnt\n",
    "In Rust we can make conditional assignments while defining variables."
   ]
  },
  {
   "cell_type": "code",
   "execution_count": 13,
   "id": "83bb419e-0141-4ebb-8b94-e7160e42f5d6",
   "metadata": {},
   "outputs": [],
   "source": [
    "let x = 0;\n",
    "let y = if x > 0 {true} else {false};"
   ]
  },
  {
   "cell_type": "code",
   "execution_count": 14,
   "id": "722f1f62-47f0-4dc9-b909-fee0074ba07f",
   "metadata": {},
   "outputs": [
    {
     "data": {
      "text/plain": [
       "false"
      ]
     },
     "execution_count": 14,
     "metadata": {},
     "output_type": "execute_result"
    }
   ],
   "source": [
    "y"
   ]
  },
  {
   "cell_type": "markdown",
   "id": "b4feb528-81b7-4f4b-bf2b-fc1e121c2d29",
   "metadata": {},
   "source": [
    "# Iterations\n",
    "Rust offers 3 types of iterations:\n",
    "1. **Loop**: Iteration that repeats indefinatelly until `break` condition is reached.\n",
    "2. **While**: Iterations that repeats while condition is `true`.\n",
    "3. **For**: Iterations based on each value of a collection like an array."
   ]
  },
  {
   "cell_type": "markdown",
   "id": "c2729bdc-ff4f-406f-9e98-5a7990b3f5b0",
   "metadata": {},
   "source": [
    "## Loops"
   ]
  },
  {
   "cell_type": "code",
   "execution_count": 5,
   "id": "076a2b2e-31fd-4c51-bd97-69082a724765",
   "metadata": {},
   "outputs": [],
   "source": [
    "fn loop_func() {\n",
    "    let mut count = 0;\n",
    "    loop {\n",
    "        if count == 10 {\n",
    "            break;\n",
    "        }\n",
    "        count += 1;\n",
    "        println!(\"count is {}\", count);\n",
    "    }\n",
    "}"
   ]
  },
  {
   "cell_type": "code",
   "execution_count": 6,
   "id": "8e0c0261-1a56-44bb-a175-8210498ce217",
   "metadata": {},
   "outputs": [
    {
     "name": "stdout",
     "output_type": "stream",
     "text": [
      "count is 1\n",
      "count is 2\n",
      "count is 3\n",
      "count is 4\n",
      "count is 5\n",
      "count is 6\n",
      "count is 7\n",
      "count is 8\n",
      "count is 9\n",
      "count is 10\n"
     ]
    },
    {
     "data": {
      "text/plain": [
       "()"
      ]
     },
     "execution_count": 6,
     "metadata": {},
     "output_type": "execute_result"
    }
   ],
   "source": [
    "loop_func()"
   ]
  },
  {
   "cell_type": "markdown",
   "id": "95136b12-80dc-42a1-88e0-f514aed30125",
   "metadata": {},
   "source": [
    "We can use the `break` statement to return a value from the function with:"
   ]
  },
  {
   "cell_type": "code",
   "execution_count": 18,
   "id": "88939790-6c5b-4498-9d11-732e21433805",
   "metadata": {},
   "outputs": [],
   "source": [
    "fn loop_func() -> u32{\n",
    "    let mut count = 0;\n",
    "    let result = loop {\n",
    "        if count == 10 {\n",
    "            break count * 10;\n",
    "        }\n",
    "        count += 1;\n",
    "        println!(\"count is {}\", count);\n",
    "    };\n",
    "    result\n",
    "}"
   ]
  },
  {
   "cell_type": "code",
   "execution_count": 19,
   "id": "e3559625-2e64-486c-89ab-d4214423e625",
   "metadata": {},
   "outputs": [
    {
     "name": "stdout",
     "output_type": "stream",
     "text": [
      "count is 1\n",
      "count is 2\n",
      "count is 3\n",
      "count is 4\n",
      "count is 5\n",
      "count is 6\n",
      "count is 7\n",
      "count is 8\n",
      "count is 9\n",
      "count is 10\n"
     ]
    },
    {
     "data": {
      "text/plain": [
       "100"
      ]
     },
     "execution_count": 19,
     "metadata": {},
     "output_type": "execute_result"
    }
   ],
   "source": [
    "loop_func()"
   ]
  },
  {
   "cell_type": "markdown",
   "id": "c526e95d-e4fa-4d36-861a-d021ebeb1f62",
   "metadata": {},
   "source": [
    "## While"
   ]
  },
  {
   "cell_type": "code",
   "execution_count": null,
   "id": "5896ad7f-554e-4527-9872-3571671ded64",
   "metadata": {},
   "outputs": [],
   "source": []
  }
 ],
 "metadata": {
  "kernelspec": {
   "display_name": "Rust",
   "language": "rust",
   "name": "rust"
  },
  "language_info": {
   "codemirror_mode": "rust",
   "file_extension": ".rs",
   "mimetype": "text/rust",
   "name": "Rust",
   "pygment_lexer": "rust",
   "version": ""
  }
 },
 "nbformat": 4,
 "nbformat_minor": 5
}
